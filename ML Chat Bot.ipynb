{
 "cells": [
  {
   "cell_type": "markdown",
   "id": "328b74ce",
   "metadata": {},
   "source": [
    "  <h1>CHAT BOT USING ML FOR CRONIC KIDNEY DISEASE</h1>"
   ]
  },
  {
   "cell_type": "markdown",
   "id": "385732be",
   "metadata": {},
   "source": [
    "<h3>This is a smart Chatbot which can define and state all detail about chronical kidney disease by fetching data from newspaper articale</h3>"
   ]
  },
  {
   "cell_type": "markdown",
   "id": "f4204e46",
   "metadata": {},
   "source": [
    "<h3>Importing libraries</h3>"
   ]
  },
  {
   "cell_type": "code",
   "execution_count": 1,
   "id": "acc917e1",
   "metadata": {},
   "outputs": [],
   "source": [
    "#Importing libraries \n",
    "\n",
    "import nltk\n",
    "from newspaper import Article\n",
    "import random\n",
    "import string\n",
    "from sklearn.feature_extraction.text import CountVectorizer\n",
    "from sklearn.metrics.pairwise import cosine_similarity\n",
    "import numpy as np \n",
    "import warnings\n",
    "warnings.filterwarnings('ignore')\n",
    "from nltk import punkt\n",
    "import numpy as np"
   ]
  },
  {
   "cell_type": "markdown",
   "id": "0ca33d6e",
   "metadata": {},
   "source": [
    "<h4>Extracting data from newsarticle</h4>"
   ]
  },
  {
   "cell_type": "code",
   "execution_count": 2,
   "id": "a82eeea9",
   "metadata": {},
   "outputs": [],
   "source": [
    "#get the article\n",
    "\n",
    "article= Article('https://www.mayoclinic.org/diseases-conditions/chronic-kidney-disease/symptoms-causes/syc-20354521')\n",
    "article.download()\n",
    "article.parse()\n",
    "article.nlp()\n",
    "corpus=article.text"
   ]
  },
  {
   "cell_type": "code",
   "execution_count": 3,
   "id": "23eb5a8a",
   "metadata": {
    "scrolled": true
   },
   "outputs": [
    {
     "name": "stdout",
     "output_type": "stream",
     "text": [
      "I'm Dr. Andrew Bentall, a kidney doctor at Mayo Clinic. I look after patients with kidney disease, either in the early stages, or with more advanced kidney disease considering dialysis and transplantation as treatment options. In this video, we'll cover the basics of chronic kidney disease. What is it? Who gets it? The symptoms, diagnosis and treatment. Whether you are looking for answers for yourself or for someone you love, we're here to give you the best information available.\n",
      "\n",
      "Chronic kidney disease is a disease characterized by progressive damage and loss of function in the kidneys. It's estimated that chronic kidney disease affects about one in seven American adults. And most of those don't know they have it. Before we get into the disease itself, let's talk a little bit about the kidneys and what they do. Our kidneys play many important roles keeping our bodies in balance. They remove waste and toxins, excess water from the bloodstream, which is carried out of the body in urine. They helped to make hormones to produce red blood cells, and they turn vitamin D into its active form, so it's usable in the body.\n",
      "\n",
      "There are quite a few things that can cause or put you at higher risk for chronic kidney disease. Some of them are not things that can be avoided. Your risk is simply higher if you have a family history of certain genetic conditions like polycystic kidney disease or some autoimmune diseases like lupus or IgA nephropathy. Defects in the kidney structure can also cause your kidneys to fail, and you have an increased risk as you get older. Sometimes, other common medical conditions can increase your risk. Diabetes is the most common cause of kidney disease. Both type 1 and type 2 diabetes. But also heart disease and obesity can contribute to the damage that causes kidneys to fail. Urinary tract issues and inflammation in different parts of the kidney can also lead to long-term functional decline. There are things that are more under our control: Heavy or long-term use of certain medications, even those that are common over-the-counter. Smoking can also be a contributing factor to chronic kidney disease.\n",
      "\n",
      "Often there are no outward signs in the earlier stages of chronic kidney disease, which is grouped into stages 1 through 5. Generally, earlier stages are known as 1 to 3. And as kidney disease progresses, you may notice the following symptoms. Nausea and vomiting, muscle cramps, loss of appetite, swelling via feet and ankles, dry, itchy skin, shortness of breath, trouble sleeping, urinating either too much or too little. However, these are usually in the later stages, but they can also happen in other disorders. So don't automatically interpret this as having kidney disease. But if you're experiencing anything that concerns you, you should make an appointment with your doctor.\n",
      "\n",
      "Even before any symptoms appear, routine blood work can indicate that you might be in the early stages of chronic kidney disease. And the earlier it's detected, the easier it is to treat. This is why regular checkups with your doctor are important. If your doctor suspects the onset of chronic kidney disease, they may schedule a variety of other tests. They may also refer you to a kidney specialist, a nephrologist like myself. Urine tests can reveal abnormalities and give clues to the underlying cause of the chronic kidney disease. And this can also help to determine the underlying issues. Various imaging tests like ultrasounds or CT scans can be done to help your doctor assess the size, the structure, as well as evaluate the visible damage, inflammation or stones of your kidneys. And in some cases, a kidney biopsy may be necessary. And a small amount of tissue is taken with a needle and sent to the pathologist for further analysis.\n",
      "\n",
      "Treatment is determined by what is causing your kidneys to not function normally. Treating the cause is key, leading to reduced complications and slowing progression of kidney disease. For example, getting better blood pressure control, improved sugar control and diabetes, and reducing weight are often key interventions. However, existing damage is not usually reversible. In some conditions, treatment can reverse the cause of the disease. So seeking medical review is really important. Individual complications vary, but treatment might include high blood pressure medication, diuretics to reduce fluid and swelling, supplements to relieve anemia, statins to lower cholesterol, or medications to protect your bones and prevent blood vessel calcification. A lower-protein diet may also be recommended. It reduces the amount of waste your kidneys need to filter from your blood. These can not only slow the damage of kidney disease, but make you feel better as well. When the damage has progressed to the point that 85 to 90 percent of your kidney function is gone, and they no longer work well enough to keep you alive, it's called end-stage kidney failure. But there are still options. There's dialysis, which uses a machine to filter the toxins and remove water from your body as your kidneys are no longer able to do this. Where possible, the preferred therapy is a kidney transplant. While an organ transplant can sound daunting, it's actually often the better alternative, and the closest thing to a cure, if you qualify for a kidney transplant.\n",
      "\n",
      "If you have kidney disease, there are lifestyle choices. Namely quit smoking. Consuming alcohol in moderation. If you're overweight or obese, then try to lose weight. Staying active and getting exercise can help not only with your weight, but fatigue and stress. If your condition allows, keep up with your routine, whether that's working, hobbies, social activities, or other things you enjoy. It can be helpful to talk to someone you trust, a friend or relative who's good at listening. Or your doctor could also refer you to a therapist or social worker. It can also be helpful to find a support group and connect with people going through the same thing. Learning you have chronic kidney disease and learning how to live with it can be a challenge. But there are lots of ways to help you to be more comfortable for longer before more drastic measures are needed. And even then, there is plenty of hope. If you'd like to learn even more about chronic kidney disease, watch our other related videos or visit mayoclinic.org. We wish you well.\n"
     ]
    }
   ],
   "source": [
    "print(corpus)"
   ]
  },
  {
   "cell_type": "markdown",
   "id": "f7ae74fb",
   "metadata": {},
   "source": [
    "<h4>Doing tokenization of article text</h4>\n"
   ]
  },
  {
   "cell_type": "code",
   "execution_count": 4,
   "id": "6a5d56a9",
   "metadata": {},
   "outputs": [],
   "source": [
    "#tokenization\n",
    "\n",
    "text=corpus\n",
    "\n",
    "sentence_list=nltk.sent_tokenize(text)"
   ]
  },
  {
   "cell_type": "code",
   "execution_count": 5,
   "id": "21ce0f28",
   "metadata": {},
   "outputs": [
    {
     "data": {
      "text/plain": [
       "['Chronic kidney disease is a disease characterized by progressive damage and loss of function in the kidneys.',\n",
       " \"It's estimated that chronic kidney disease affects about one in seven American adults.\",\n",
       " \"And most of those don't know they have it.\",\n",
       " \"Before we get into the disease itself, let's talk a little bit about the kidneys and what they do.\",\n",
       " 'Our kidneys play many important roles keeping our bodies in balance.',\n",
       " 'They remove waste and toxins, excess water from the bloodstream, which is carried out of the body in urine.',\n",
       " \"They helped to make hormones to produce red blood cells, and they turn vitamin D into its active form, so it's usable in the body.\",\n",
       " 'There are quite a few things that can cause or put you at higher risk for chronic kidney disease.',\n",
       " 'Some of them are not things that can be avoided.',\n",
       " 'Your risk is simply higher if you have a family history of certain genetic conditions like polycystic kidney disease or some autoimmune diseases like lupus or IgA nephropathy.',\n",
       " 'Defects in the kidney structure can also cause your kidneys to fail, and you have an increased risk as you get older.',\n",
       " 'Sometimes, other common medical conditions can increase your risk.',\n",
       " 'Diabetes is the most common cause of kidney disease.',\n",
       " 'Both type 1 and type 2 diabetes.',\n",
       " 'But also heart disease and obesity can contribute to the damage that causes kidneys to fail.',\n",
       " 'Urinary tract issues and inflammation in different parts of the kidney can also lead to long-term functional decline.',\n",
       " 'There are things that are more under our control: Heavy or long-term use of certain medications, even those that are common over-the-counter.',\n",
       " 'Smoking can also be a contributing factor to chronic kidney disease.',\n",
       " 'Often there are no outward signs in the earlier stages of chronic kidney disease, which is grouped into stages 1 through 5.',\n",
       " 'Generally, earlier stages are known as 1 to 3.',\n",
       " 'And as kidney disease progresses, you may notice the following symptoms.',\n",
       " 'Nausea and vomiting, muscle cramps, loss of appetite, swelling via feet and ankles, dry, itchy skin, shortness of breath, trouble sleeping, urinating either too much or too little.',\n",
       " 'However, these are usually in the later stages, but they can also happen in other disorders.',\n",
       " \"So don't automatically interpret this as having kidney disease.\",\n",
       " \"But if you're experiencing anything that concerns you, you should make an appointment with your doctor.\",\n",
       " 'Even before any symptoms appear, routine blood work can indicate that you might be in the early stages of chronic kidney disease.',\n",
       " \"And the earlier it's detected, the easier it is to treat.\",\n",
       " 'This is why regular checkups with your doctor are important.',\n",
       " 'If your doctor suspects the onset of chronic kidney disease, they may schedule a variety of other tests.',\n",
       " 'They may also refer you to a kidney specialist, a nephrologist like myself.',\n",
       " 'Urine tests can reveal abnormalities and give clues to the underlying cause of the chronic kidney disease.',\n",
       " 'And this can also help to determine the underlying issues.',\n",
       " 'Various imaging tests like ultrasounds or CT scans can be done to help your doctor assess the size, the structure, as well as evaluate the visible damage, inflammation or stones of your kidneys.',\n",
       " 'And in some cases, a kidney biopsy may be necessary.',\n",
       " 'And a small amount of tissue is taken with a needle and sent to the pathologist for further analysis.',\n",
       " 'Treatment is determined by what is causing your kidneys to not function normally.',\n",
       " 'Treating the cause is key, leading to reduced complications and slowing progression of kidney disease.',\n",
       " 'For example, getting better blood pressure control, improved sugar control and diabetes, and reducing weight are often key interventions.',\n",
       " 'However, existing damage is not usually reversible.',\n",
       " 'In some conditions, treatment can reverse the cause of the disease.',\n",
       " 'So seeking medical review is really important.',\n",
       " 'Individual complications vary, but treatment might include high blood pressure medication, diuretics to reduce fluid and swelling, supplements to relieve anemia, statins to lower cholesterol, or medications to protect your bones and prevent blood vessel calcification.',\n",
       " 'A lower-protein diet may also be recommended.',\n",
       " 'It reduces the amount of waste your kidneys need to filter from your blood.',\n",
       " 'These can not only slow the damage of kidney disease, but make you feel better as well.',\n",
       " \"When the damage has progressed to the point that 85 to 90 percent of your kidney function is gone, and they no longer work well enough to keep you alive, it's called end-stage kidney failure.\",\n",
       " 'But there are still options.',\n",
       " \"There's dialysis, which uses a machine to filter the toxins and remove water from your body as your kidneys are no longer able to do this.\",\n",
       " 'Where possible, the preferred therapy is a kidney transplant.',\n",
       " \"While an organ transplant can sound daunting, it's actually often the better alternative, and the closest thing to a cure, if you qualify for a kidney transplant.\",\n",
       " 'If you have kidney disease, there are lifestyle choices.',\n",
       " 'Namely quit smoking.',\n",
       " 'Consuming alcohol in moderation.',\n",
       " \"If you're overweight or obese, then try to lose weight.\",\n",
       " 'Staying active and getting exercise can help not only with your weight, but fatigue and stress.',\n",
       " \"If your condition allows, keep up with your routine, whether that's working, hobbies, social activities, or other things you enjoy.\",\n",
       " \"It can be helpful to talk to someone you trust, a friend or relative who's good at listening.\",\n",
       " 'Or your doctor could also refer you to a therapist or social worker.',\n",
       " 'It can also be helpful to find a support group and connect with people going through the same thing.',\n",
       " 'Learning you have chronic kidney disease and learning how to live with it can be a challenge.',\n",
       " 'But there are lots of ways to help you to be more comfortable for longer before more drastic measures are needed.',\n",
       " 'And even then, there is plenty of hope.',\n",
       " \"If you'd like to learn even more about chronic kidney disease, watch our other related videos or visit mayoclinic.org.\",\n",
       " 'We wish you well.']"
      ]
     },
     "execution_count": 5,
     "metadata": {},
     "output_type": "execute_result"
    }
   ],
   "source": [
    "sentence_list=sentence_list[7:]\n",
    "sentence_list"
   ]
  },
  {
   "cell_type": "markdown",
   "id": "23e926f9",
   "metadata": {},
   "source": [
    "<h4>Greeting response </h4>"
   ]
  },
  {
   "cell_type": "code",
   "execution_count": 6,
   "id": "bf8a557a",
   "metadata": {},
   "outputs": [],
   "source": [
    "def  greeting_response(text):\n",
    "    text=text.lower()\n",
    "    bot_greeting=['hello' , 'hii', 'hey','hi']\n",
    "    user_greeting = ['hello','hii', 'hey' ,'hi']\n",
    "    for word in text.split():\n",
    "        if word in  user_greeting:\n",
    "            return random.choice(bot_greeting)\n",
    "        "
   ]
  },
  {
   "cell_type": "markdown",
   "id": "d94e1542",
   "metadata": {},
   "source": [
    "<h4>Sorting index values having max similarities</h4>"
   ]
  },
  {
   "cell_type": "code",
   "execution_count": 7,
   "id": "1da96d72",
   "metadata": {},
   "outputs": [],
   "source": [
    "def index_sort(lis_var):\n",
    "    length = len(lis_var)\n",
    "    lis_index=list(range(0,length))\n",
    "    \n",
    "    x = lis_var\n",
    "    \n",
    "    for i in range(length):\n",
    "        for j in range(length):\n",
    "            if x[lis_index[i]]>x[lis_index[j]]:\n",
    "                #swap\n",
    "                temp = lis_index[i]\n",
    "                lis_index[i] = lis_index[j]\n",
    "                lis_index[j] = temp\n",
    "    return lis_index"
   ]
  },
  {
   "cell_type": "markdown",
   "id": "cd7dacf3",
   "metadata": {},
   "source": [
    "<h4>Creating bot response</h4>"
   ]
  },
  {
   "cell_type": "code",
   "execution_count": 8,
   "id": "dfc48472",
   "metadata": {},
   "outputs": [],
   "source": [
    "def bot_responces(user_input):\n",
    "    user_input = user_input.lower()\n",
    "    sentence_list.append(user_input)\n",
    "    bot_responces = ''\n",
    "    cm = CountVectorizer().fit_transform(sentence_list)\n",
    "    similarity_sc = cosine_similarity(cm[-1],cm)\n",
    "    similarity_list = similarity_sc.flatten()\n",
    "    index = index_sort(similarity_list)\n",
    "    #print(similarity_list)\n",
    "    index = index[1:]\n",
    "    resp_flag = 0\n",
    "    j = 0\n",
    "    for i in range(len(index)):\n",
    "        if similarity_list[index].any()>0.3:\n",
    "            bot_responces = bot_responces +' '+ sentence_list[index[i]]\n",
    "            resp_flag = 1\n",
    "            j = j+1\n",
    "        if j>2:\n",
    "            break\n",
    "    if resp_flag == 0:\n",
    "        bot_responces = bot_responces +' '+ \"I apologize , I don't understand.\"\n",
    "    \n",
    "    sentence_list.remove(user_input)\n",
    "    #print(bot_responces)\n",
    "    return bot_responces\n",
    "        "
   ]
  },
  {
   "cell_type": "code",
   "execution_count": 9,
   "id": "e65f8957",
   "metadata": {},
   "outputs": [
    {
     "name": "stdout",
     "output_type": "stream",
     "text": [
      "Doc Bot : I am Doctor bot which can give you some detail about chronic kidney disease\n",
      "hii\n",
      "Doc Bot : hii\n",
      "\n",
      "\n",
      "what is chronic kidney disease\n",
      "Doc Bot :  Chronic kidney disease is a disease characterized by progressive damage and loss of function in the kidneys. Diabetes is the most common cause of kidney disease. Smoking can also be a contributing factor to chronic kidney disease.\n",
      "\n",
      "\n",
      "what if i have kidney disease\n",
      "Doc Bot :  If you have kidney disease, there are lifestyle choices. Your risk is simply higher if you have a family history of certain genetic conditions like polycystic kidney disease or some autoimmune diseases like lupus or IgA nephropathy. Learning you have chronic kidney disease and learning how to live with it can be a challenge.\n",
      "\n",
      "\n",
      "is existing damage is reversible or not\n",
      "Doc Bot :  However, existing damage is not usually reversible. Treatment is determined by what is causing your kidneys to not function normally. So seeking medical review is really important.\n",
      "\n",
      "\n",
      "what is the main genetic cause\n",
      "Doc Bot :  Diabetes is the most common cause of kidney disease. In some conditions, treatment can reverse the cause of the disease. Treating the cause is key, leading to reduced complications and slowing progression of kidney disease.\n",
      "\n",
      "\n",
      "thanks\n",
      "Doc bot : Most welcome\n"
     ]
    }
   ],
   "source": [
    "#start the chat \n",
    "\n",
    "print(\"Doc Bot : I am Doctor bot which can give you some detail about chronic kidney disease\")\n",
    "\n",
    "exit_cmd = ['bye', 'see you letter' , 'close' , 'exit' , \"Thanks\" , \"thanks\"]\n",
    "\n",
    "while(True):\n",
    "    user_input = input()\n",
    "    \n",
    "    if user_input.lower() in exit_cmd:\n",
    "        print('Doc bot : Most welcome')\n",
    "        break\n",
    "    else:\n",
    "        if greeting_response(user_input)!= None:\n",
    "            print('Doc Bot : '+ greeting_response(user_input))\n",
    "            print(\"\\n\")\n",
    "        else:\n",
    "            print\n",
    "            print('Doc Bot : ' + bot_responces(user_input))\n",
    "            print(\"\\n\")\n",
    "            "
   ]
  }
 ],
 "metadata": {
  "kernelspec": {
   "display_name": "Python 3 (ipykernel)",
   "language": "python",
   "name": "python3"
  },
  "language_info": {
   "codemirror_mode": {
    "name": "ipython",
    "version": 3
   },
   "file_extension": ".py",
   "mimetype": "text/x-python",
   "name": "python",
   "nbconvert_exporter": "python",
   "pygments_lexer": "ipython3",
   "version": "3.11.3"
  }
 },
 "nbformat": 4,
 "nbformat_minor": 5
}
